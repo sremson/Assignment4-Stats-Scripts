{
 "cells": [
  {
   "cell_type": "markdown",
   "id": "a46ea84a-a450-4c58-b8b0-353166a6c019",
   "metadata": {},
   "source": [
    "This is the beginning of my notebook for Assignment 4"
   ]
  },
  {
   "cell_type": "markdown",
   "id": "10c04b52-32b0-4f2e-a2ad-0d08e969ba26",
   "metadata": {},
   "source": [
    "I set up the environment manually in the OSC terminal and then sent it here. I installed conda, bioforge, jupyterlab, and the kernel. I'm sure i'll be adding a ton of packages as I continue the assignment. I then cloned my github and pushed everything (including the gitignore to my github repo. I did the gitignore manually on the command line, so it's not shown here in the notebook unfortunately."
   ]
  },
  {
   "cell_type": "markdown",
   "id": "14547724-4799-4bc0-8f89-8bd026eb7075",
   "metadata": {},
   "source": [
    "Right now it also looks like there are a ton of dependencies in my environment, not sure what that's about"
   ]
  },
  {
   "cell_type": "markdown",
   "id": "43c660e0-904c-4509-a0a6-929994f746b7",
   "metadata": {},
   "source": [
    "Okay I made the script executable as well so I can hopefully just load the environment directly"
   ]
  },
  {
   "cell_type": "code",
   "execution_count": 1,
   "id": "6641d6c6-af6e-4e8b-b859-c4c9d5bdb951",
   "metadata": {},
   "outputs": [],
   "source": [
    "import pandas"
   ]
  },
  {
   "cell_type": "code",
   "execution_count": 3,
   "id": "0d2a8d5d-5b63-43c6-b92b-5aa307d898ac",
   "metadata": {},
   "outputs": [
    {
     "data": {
      "text/html": [
       "<div>\n",
       "<style scoped>\n",
       "    .dataframe tbody tr th:only-of-type {\n",
       "        vertical-align: middle;\n",
       "    }\n",
       "\n",
       "    .dataframe tbody tr th {\n",
       "        vertical-align: top;\n",
       "    }\n",
       "\n",
       "    .dataframe thead th {\n",
       "        text-align: right;\n",
       "    }\n",
       "</style>\n",
       "<table border=\"1\" class=\"dataframe\">\n",
       "  <thead>\n",
       "    <tr style=\"text-align: right;\">\n",
       "      <th></th>\n",
       "      <th>Unnamed: 0</th>\n",
       "      <th>Gender</th>\n",
       "      <th>FSIQ</th>\n",
       "      <th>VIQ</th>\n",
       "      <th>PIQ</th>\n",
       "      <th>Weight</th>\n",
       "      <th>Height</th>\n",
       "      <th>MRI_Count</th>\n",
       "    </tr>\n",
       "  </thead>\n",
       "  <tbody>\n",
       "    <tr>\n",
       "      <th>0</th>\n",
       "      <td>1</td>\n",
       "      <td>Female</td>\n",
       "      <td>133</td>\n",
       "      <td>132</td>\n",
       "      <td>124</td>\n",
       "      <td>118.0</td>\n",
       "      <td>64.5</td>\n",
       "      <td>816932</td>\n",
       "    </tr>\n",
       "    <tr>\n",
       "      <th>1</th>\n",
       "      <td>2</td>\n",
       "      <td>Male</td>\n",
       "      <td>140</td>\n",
       "      <td>150</td>\n",
       "      <td>124</td>\n",
       "      <td>NaN</td>\n",
       "      <td>72.5</td>\n",
       "      <td>1001121</td>\n",
       "    </tr>\n",
       "    <tr>\n",
       "      <th>2</th>\n",
       "      <td>3</td>\n",
       "      <td>Male</td>\n",
       "      <td>139</td>\n",
       "      <td>123</td>\n",
       "      <td>150</td>\n",
       "      <td>143.0</td>\n",
       "      <td>73.3</td>\n",
       "      <td>1038437</td>\n",
       "    </tr>\n",
       "    <tr>\n",
       "      <th>3</th>\n",
       "      <td>4</td>\n",
       "      <td>Male</td>\n",
       "      <td>133</td>\n",
       "      <td>129</td>\n",
       "      <td>128</td>\n",
       "      <td>172.0</td>\n",
       "      <td>68.8</td>\n",
       "      <td>965353</td>\n",
       "    </tr>\n",
       "    <tr>\n",
       "      <th>4</th>\n",
       "      <td>5</td>\n",
       "      <td>Female</td>\n",
       "      <td>137</td>\n",
       "      <td>132</td>\n",
       "      <td>134</td>\n",
       "      <td>147.0</td>\n",
       "      <td>65.0</td>\n",
       "      <td>951545</td>\n",
       "    </tr>\n",
       "    <tr>\n",
       "      <th>5</th>\n",
       "      <td>6</td>\n",
       "      <td>Female</td>\n",
       "      <td>99</td>\n",
       "      <td>90</td>\n",
       "      <td>110</td>\n",
       "      <td>146.0</td>\n",
       "      <td>69.0</td>\n",
       "      <td>928799</td>\n",
       "    </tr>\n",
       "    <tr>\n",
       "      <th>6</th>\n",
       "      <td>7</td>\n",
       "      <td>Female</td>\n",
       "      <td>138</td>\n",
       "      <td>136</td>\n",
       "      <td>131</td>\n",
       "      <td>138.0</td>\n",
       "      <td>64.5</td>\n",
       "      <td>991305</td>\n",
       "    </tr>\n",
       "    <tr>\n",
       "      <th>7</th>\n",
       "      <td>8</td>\n",
       "      <td>Female</td>\n",
       "      <td>92</td>\n",
       "      <td>90</td>\n",
       "      <td>98</td>\n",
       "      <td>175.0</td>\n",
       "      <td>66.0</td>\n",
       "      <td>854258</td>\n",
       "    </tr>\n",
       "    <tr>\n",
       "      <th>8</th>\n",
       "      <td>9</td>\n",
       "      <td>Male</td>\n",
       "      <td>89</td>\n",
       "      <td>93</td>\n",
       "      <td>84</td>\n",
       "      <td>134.0</td>\n",
       "      <td>66.3</td>\n",
       "      <td>904858</td>\n",
       "    </tr>\n",
       "    <tr>\n",
       "      <th>9</th>\n",
       "      <td>10</td>\n",
       "      <td>Male</td>\n",
       "      <td>133</td>\n",
       "      <td>114</td>\n",
       "      <td>147</td>\n",
       "      <td>172.0</td>\n",
       "      <td>68.8</td>\n",
       "      <td>955466</td>\n",
       "    </tr>\n",
       "    <tr>\n",
       "      <th>10</th>\n",
       "      <td>11</td>\n",
       "      <td>Female</td>\n",
       "      <td>132</td>\n",
       "      <td>129</td>\n",
       "      <td>124</td>\n",
       "      <td>118.0</td>\n",
       "      <td>64.5</td>\n",
       "      <td>833868</td>\n",
       "    </tr>\n",
       "    <tr>\n",
       "      <th>11</th>\n",
       "      <td>12</td>\n",
       "      <td>Male</td>\n",
       "      <td>141</td>\n",
       "      <td>150</td>\n",
       "      <td>128</td>\n",
       "      <td>151.0</td>\n",
       "      <td>70.0</td>\n",
       "      <td>1079549</td>\n",
       "    </tr>\n",
       "    <tr>\n",
       "      <th>12</th>\n",
       "      <td>13</td>\n",
       "      <td>Male</td>\n",
       "      <td>135</td>\n",
       "      <td>129</td>\n",
       "      <td>124</td>\n",
       "      <td>155.0</td>\n",
       "      <td>69.0</td>\n",
       "      <td>924059</td>\n",
       "    </tr>\n",
       "    <tr>\n",
       "      <th>13</th>\n",
       "      <td>14</td>\n",
       "      <td>Female</td>\n",
       "      <td>140</td>\n",
       "      <td>120</td>\n",
       "      <td>147</td>\n",
       "      <td>155.0</td>\n",
       "      <td>70.5</td>\n",
       "      <td>856472</td>\n",
       "    </tr>\n",
       "    <tr>\n",
       "      <th>14</th>\n",
       "      <td>15</td>\n",
       "      <td>Female</td>\n",
       "      <td>96</td>\n",
       "      <td>100</td>\n",
       "      <td>90</td>\n",
       "      <td>146.0</td>\n",
       "      <td>66.0</td>\n",
       "      <td>878897</td>\n",
       "    </tr>\n",
       "    <tr>\n",
       "      <th>15</th>\n",
       "      <td>16</td>\n",
       "      <td>Female</td>\n",
       "      <td>83</td>\n",
       "      <td>71</td>\n",
       "      <td>96</td>\n",
       "      <td>135.0</td>\n",
       "      <td>68.0</td>\n",
       "      <td>865363</td>\n",
       "    </tr>\n",
       "    <tr>\n",
       "      <th>16</th>\n",
       "      <td>17</td>\n",
       "      <td>Female</td>\n",
       "      <td>132</td>\n",
       "      <td>132</td>\n",
       "      <td>120</td>\n",
       "      <td>127.0</td>\n",
       "      <td>68.5</td>\n",
       "      <td>852244</td>\n",
       "    </tr>\n",
       "    <tr>\n",
       "      <th>17</th>\n",
       "      <td>18</td>\n",
       "      <td>Male</td>\n",
       "      <td>100</td>\n",
       "      <td>96</td>\n",
       "      <td>102</td>\n",
       "      <td>178.0</td>\n",
       "      <td>73.5</td>\n",
       "      <td>945088</td>\n",
       "    </tr>\n",
       "    <tr>\n",
       "      <th>18</th>\n",
       "      <td>19</td>\n",
       "      <td>Female</td>\n",
       "      <td>101</td>\n",
       "      <td>112</td>\n",
       "      <td>84</td>\n",
       "      <td>136.0</td>\n",
       "      <td>66.3</td>\n",
       "      <td>808020</td>\n",
       "    </tr>\n",
       "    <tr>\n",
       "      <th>19</th>\n",
       "      <td>20</td>\n",
       "      <td>Male</td>\n",
       "      <td>80</td>\n",
       "      <td>77</td>\n",
       "      <td>86</td>\n",
       "      <td>180.0</td>\n",
       "      <td>70.0</td>\n",
       "      <td>889083</td>\n",
       "    </tr>\n",
       "    <tr>\n",
       "      <th>20</th>\n",
       "      <td>21</td>\n",
       "      <td>Male</td>\n",
       "      <td>83</td>\n",
       "      <td>83</td>\n",
       "      <td>86</td>\n",
       "      <td>NaN</td>\n",
       "      <td>NaN</td>\n",
       "      <td>892420</td>\n",
       "    </tr>\n",
       "    <tr>\n",
       "      <th>21</th>\n",
       "      <td>22</td>\n",
       "      <td>Male</td>\n",
       "      <td>97</td>\n",
       "      <td>107</td>\n",
       "      <td>84</td>\n",
       "      <td>186.0</td>\n",
       "      <td>76.5</td>\n",
       "      <td>905940</td>\n",
       "    </tr>\n",
       "    <tr>\n",
       "      <th>22</th>\n",
       "      <td>23</td>\n",
       "      <td>Female</td>\n",
       "      <td>135</td>\n",
       "      <td>129</td>\n",
       "      <td>134</td>\n",
       "      <td>122.0</td>\n",
       "      <td>62.0</td>\n",
       "      <td>790619</td>\n",
       "    </tr>\n",
       "    <tr>\n",
       "      <th>23</th>\n",
       "      <td>24</td>\n",
       "      <td>Male</td>\n",
       "      <td>139</td>\n",
       "      <td>145</td>\n",
       "      <td>128</td>\n",
       "      <td>132.0</td>\n",
       "      <td>68.0</td>\n",
       "      <td>955003</td>\n",
       "    </tr>\n",
       "    <tr>\n",
       "      <th>24</th>\n",
       "      <td>25</td>\n",
       "      <td>Female</td>\n",
       "      <td>91</td>\n",
       "      <td>86</td>\n",
       "      <td>102</td>\n",
       "      <td>114.0</td>\n",
       "      <td>63.0</td>\n",
       "      <td>831772</td>\n",
       "    </tr>\n",
       "    <tr>\n",
       "      <th>25</th>\n",
       "      <td>26</td>\n",
       "      <td>Male</td>\n",
       "      <td>141</td>\n",
       "      <td>145</td>\n",
       "      <td>131</td>\n",
       "      <td>171.0</td>\n",
       "      <td>72.0</td>\n",
       "      <td>935494</td>\n",
       "    </tr>\n",
       "    <tr>\n",
       "      <th>26</th>\n",
       "      <td>27</td>\n",
       "      <td>Female</td>\n",
       "      <td>85</td>\n",
       "      <td>90</td>\n",
       "      <td>84</td>\n",
       "      <td>140.0</td>\n",
       "      <td>68.0</td>\n",
       "      <td>798612</td>\n",
       "    </tr>\n",
       "    <tr>\n",
       "      <th>27</th>\n",
       "      <td>28</td>\n",
       "      <td>Male</td>\n",
       "      <td>103</td>\n",
       "      <td>96</td>\n",
       "      <td>110</td>\n",
       "      <td>187.0</td>\n",
       "      <td>77.0</td>\n",
       "      <td>1062462</td>\n",
       "    </tr>\n",
       "    <tr>\n",
       "      <th>28</th>\n",
       "      <td>29</td>\n",
       "      <td>Female</td>\n",
       "      <td>77</td>\n",
       "      <td>83</td>\n",
       "      <td>72</td>\n",
       "      <td>106.0</td>\n",
       "      <td>63.0</td>\n",
       "      <td>793549</td>\n",
       "    </tr>\n",
       "    <tr>\n",
       "      <th>29</th>\n",
       "      <td>30</td>\n",
       "      <td>Female</td>\n",
       "      <td>130</td>\n",
       "      <td>126</td>\n",
       "      <td>124</td>\n",
       "      <td>159.0</td>\n",
       "      <td>66.5</td>\n",
       "      <td>866662</td>\n",
       "    </tr>\n",
       "    <tr>\n",
       "      <th>30</th>\n",
       "      <td>31</td>\n",
       "      <td>Female</td>\n",
       "      <td>133</td>\n",
       "      <td>126</td>\n",
       "      <td>132</td>\n",
       "      <td>127.0</td>\n",
       "      <td>62.5</td>\n",
       "      <td>857782</td>\n",
       "    </tr>\n",
       "    <tr>\n",
       "      <th>31</th>\n",
       "      <td>32</td>\n",
       "      <td>Male</td>\n",
       "      <td>144</td>\n",
       "      <td>145</td>\n",
       "      <td>137</td>\n",
       "      <td>191.0</td>\n",
       "      <td>67.0</td>\n",
       "      <td>949589</td>\n",
       "    </tr>\n",
       "    <tr>\n",
       "      <th>32</th>\n",
       "      <td>33</td>\n",
       "      <td>Male</td>\n",
       "      <td>103</td>\n",
       "      <td>96</td>\n",
       "      <td>110</td>\n",
       "      <td>192.0</td>\n",
       "      <td>75.5</td>\n",
       "      <td>997925</td>\n",
       "    </tr>\n",
       "    <tr>\n",
       "      <th>33</th>\n",
       "      <td>34</td>\n",
       "      <td>Male</td>\n",
       "      <td>90</td>\n",
       "      <td>96</td>\n",
       "      <td>86</td>\n",
       "      <td>181.0</td>\n",
       "      <td>69.0</td>\n",
       "      <td>879987</td>\n",
       "    </tr>\n",
       "    <tr>\n",
       "      <th>34</th>\n",
       "      <td>35</td>\n",
       "      <td>Female</td>\n",
       "      <td>83</td>\n",
       "      <td>90</td>\n",
       "      <td>81</td>\n",
       "      <td>143.0</td>\n",
       "      <td>66.5</td>\n",
       "      <td>834344</td>\n",
       "    </tr>\n",
       "    <tr>\n",
       "      <th>35</th>\n",
       "      <td>36</td>\n",
       "      <td>Female</td>\n",
       "      <td>133</td>\n",
       "      <td>129</td>\n",
       "      <td>128</td>\n",
       "      <td>153.0</td>\n",
       "      <td>66.5</td>\n",
       "      <td>948066</td>\n",
       "    </tr>\n",
       "    <tr>\n",
       "      <th>36</th>\n",
       "      <td>37</td>\n",
       "      <td>Male</td>\n",
       "      <td>140</td>\n",
       "      <td>150</td>\n",
       "      <td>124</td>\n",
       "      <td>144.0</td>\n",
       "      <td>70.5</td>\n",
       "      <td>949395</td>\n",
       "    </tr>\n",
       "    <tr>\n",
       "      <th>37</th>\n",
       "      <td>38</td>\n",
       "      <td>Female</td>\n",
       "      <td>88</td>\n",
       "      <td>86</td>\n",
       "      <td>94</td>\n",
       "      <td>139.0</td>\n",
       "      <td>64.5</td>\n",
       "      <td>893983</td>\n",
       "    </tr>\n",
       "    <tr>\n",
       "      <th>38</th>\n",
       "      <td>39</td>\n",
       "      <td>Male</td>\n",
       "      <td>81</td>\n",
       "      <td>90</td>\n",
       "      <td>74</td>\n",
       "      <td>148.0</td>\n",
       "      <td>74.0</td>\n",
       "      <td>930016</td>\n",
       "    </tr>\n",
       "    <tr>\n",
       "      <th>39</th>\n",
       "      <td>40</td>\n",
       "      <td>Male</td>\n",
       "      <td>89</td>\n",
       "      <td>91</td>\n",
       "      <td>89</td>\n",
       "      <td>179.0</td>\n",
       "      <td>75.5</td>\n",
       "      <td>935863</td>\n",
       "    </tr>\n",
       "  </tbody>\n",
       "</table>\n",
       "</div>"
      ],
      "text/plain": [
       "    Unnamed: 0  Gender  FSIQ  VIQ  PIQ  Weight  Height  MRI_Count\n",
       "0            1  Female   133  132  124   118.0    64.5     816932\n",
       "1            2    Male   140  150  124     NaN    72.5    1001121\n",
       "2            3    Male   139  123  150   143.0    73.3    1038437\n",
       "3            4    Male   133  129  128   172.0    68.8     965353\n",
       "4            5  Female   137  132  134   147.0    65.0     951545\n",
       "5            6  Female    99   90  110   146.0    69.0     928799\n",
       "6            7  Female   138  136  131   138.0    64.5     991305\n",
       "7            8  Female    92   90   98   175.0    66.0     854258\n",
       "8            9    Male    89   93   84   134.0    66.3     904858\n",
       "9           10    Male   133  114  147   172.0    68.8     955466\n",
       "10          11  Female   132  129  124   118.0    64.5     833868\n",
       "11          12    Male   141  150  128   151.0    70.0    1079549\n",
       "12          13    Male   135  129  124   155.0    69.0     924059\n",
       "13          14  Female   140  120  147   155.0    70.5     856472\n",
       "14          15  Female    96  100   90   146.0    66.0     878897\n",
       "15          16  Female    83   71   96   135.0    68.0     865363\n",
       "16          17  Female   132  132  120   127.0    68.5     852244\n",
       "17          18    Male   100   96  102   178.0    73.5     945088\n",
       "18          19  Female   101  112   84   136.0    66.3     808020\n",
       "19          20    Male    80   77   86   180.0    70.0     889083\n",
       "20          21    Male    83   83   86     NaN     NaN     892420\n",
       "21          22    Male    97  107   84   186.0    76.5     905940\n",
       "22          23  Female   135  129  134   122.0    62.0     790619\n",
       "23          24    Male   139  145  128   132.0    68.0     955003\n",
       "24          25  Female    91   86  102   114.0    63.0     831772\n",
       "25          26    Male   141  145  131   171.0    72.0     935494\n",
       "26          27  Female    85   90   84   140.0    68.0     798612\n",
       "27          28    Male   103   96  110   187.0    77.0    1062462\n",
       "28          29  Female    77   83   72   106.0    63.0     793549\n",
       "29          30  Female   130  126  124   159.0    66.5     866662\n",
       "30          31  Female   133  126  132   127.0    62.5     857782\n",
       "31          32    Male   144  145  137   191.0    67.0     949589\n",
       "32          33    Male   103   96  110   192.0    75.5     997925\n",
       "33          34    Male    90   96   86   181.0    69.0     879987\n",
       "34          35  Female    83   90   81   143.0    66.5     834344\n",
       "35          36  Female   133  129  128   153.0    66.5     948066\n",
       "36          37    Male   140  150  124   144.0    70.5     949395\n",
       "37          38  Female    88   86   94   139.0    64.5     893983\n",
       "38          39    Male    81   90   74   148.0    74.0     930016\n",
       "39          40    Male    89   91   89   179.0    75.5     935863"
      ]
     },
     "execution_count": 3,
     "metadata": {},
     "output_type": "execute_result"
    }
   ],
   "source": [
    "data = pandas.read_csv('brain_size.csv', sep=';', na_values=\".\")\n",
    "data "
   ]
  },
  {
   "cell_type": "markdown",
   "id": "af2b9165-5e0a-4501-98ec-fb03d201a450",
   "metadata": {},
   "source": [
    "we made the table!"
   ]
  },
  {
   "cell_type": "code",
   "execution_count": 4,
   "id": "61946377-bc68-4e7a-b456-b61116a59255",
   "metadata": {},
   "outputs": [],
   "source": [
    "import numpy as np\n",
    "\n",
    "t = np.linspace(-6, 6, 20)\n",
    "\n",
    "sin_t = np.sin(t)\n",
    "\n",
    "cos_t = np.cos(t)"
   ]
  },
  {
   "cell_type": "code",
   "execution_count": 5,
   "id": "9b77014d-447c-465e-a653-c9c661d12268",
   "metadata": {},
   "outputs": [
    {
     "data": {
      "text/html": [
       "<div>\n",
       "<style scoped>\n",
       "    .dataframe tbody tr th:only-of-type {\n",
       "        vertical-align: middle;\n",
       "    }\n",
       "\n",
       "    .dataframe tbody tr th {\n",
       "        vertical-align: top;\n",
       "    }\n",
       "\n",
       "    .dataframe thead th {\n",
       "        text-align: right;\n",
       "    }\n",
       "</style>\n",
       "<table border=\"1\" class=\"dataframe\">\n",
       "  <thead>\n",
       "    <tr style=\"text-align: right;\">\n",
       "      <th></th>\n",
       "      <th>t</th>\n",
       "      <th>sin</th>\n",
       "      <th>cos</th>\n",
       "    </tr>\n",
       "  </thead>\n",
       "  <tbody>\n",
       "    <tr>\n",
       "      <th>0</th>\n",
       "      <td>-6.000000</td>\n",
       "      <td>0.279415</td>\n",
       "      <td>0.960170</td>\n",
       "    </tr>\n",
       "    <tr>\n",
       "      <th>1</th>\n",
       "      <td>-5.368421</td>\n",
       "      <td>0.792419</td>\n",
       "      <td>0.609977</td>\n",
       "    </tr>\n",
       "    <tr>\n",
       "      <th>2</th>\n",
       "      <td>-4.736842</td>\n",
       "      <td>0.999701</td>\n",
       "      <td>0.024451</td>\n",
       "    </tr>\n",
       "    <tr>\n",
       "      <th>3</th>\n",
       "      <td>-4.105263</td>\n",
       "      <td>0.821291</td>\n",
       "      <td>-0.570509</td>\n",
       "    </tr>\n",
       "    <tr>\n",
       "      <th>4</th>\n",
       "      <td>-3.473684</td>\n",
       "      <td>0.326021</td>\n",
       "      <td>-0.945363</td>\n",
       "    </tr>\n",
       "    <tr>\n",
       "      <th>5</th>\n",
       "      <td>-2.842105</td>\n",
       "      <td>-0.295030</td>\n",
       "      <td>-0.955488</td>\n",
       "    </tr>\n",
       "    <tr>\n",
       "      <th>6</th>\n",
       "      <td>-2.210526</td>\n",
       "      <td>-0.802257</td>\n",
       "      <td>-0.596979</td>\n",
       "    </tr>\n",
       "    <tr>\n",
       "      <th>7</th>\n",
       "      <td>-1.578947</td>\n",
       "      <td>-0.999967</td>\n",
       "      <td>-0.008151</td>\n",
       "    </tr>\n",
       "    <tr>\n",
       "      <th>8</th>\n",
       "      <td>-0.947368</td>\n",
       "      <td>-0.811882</td>\n",
       "      <td>0.583822</td>\n",
       "    </tr>\n",
       "    <tr>\n",
       "      <th>9</th>\n",
       "      <td>-0.315789</td>\n",
       "      <td>-0.310567</td>\n",
       "      <td>0.950551</td>\n",
       "    </tr>\n",
       "    <tr>\n",
       "      <th>10</th>\n",
       "      <td>0.315789</td>\n",
       "      <td>0.310567</td>\n",
       "      <td>0.950551</td>\n",
       "    </tr>\n",
       "    <tr>\n",
       "      <th>11</th>\n",
       "      <td>0.947368</td>\n",
       "      <td>0.811882</td>\n",
       "      <td>0.583822</td>\n",
       "    </tr>\n",
       "    <tr>\n",
       "      <th>12</th>\n",
       "      <td>1.578947</td>\n",
       "      <td>0.999967</td>\n",
       "      <td>-0.008151</td>\n",
       "    </tr>\n",
       "    <tr>\n",
       "      <th>13</th>\n",
       "      <td>2.210526</td>\n",
       "      <td>0.802257</td>\n",
       "      <td>-0.596979</td>\n",
       "    </tr>\n",
       "    <tr>\n",
       "      <th>14</th>\n",
       "      <td>2.842105</td>\n",
       "      <td>0.295030</td>\n",
       "      <td>-0.955488</td>\n",
       "    </tr>\n",
       "    <tr>\n",
       "      <th>15</th>\n",
       "      <td>3.473684</td>\n",
       "      <td>-0.326021</td>\n",
       "      <td>-0.945363</td>\n",
       "    </tr>\n",
       "    <tr>\n",
       "      <th>16</th>\n",
       "      <td>4.105263</td>\n",
       "      <td>-0.821291</td>\n",
       "      <td>-0.570509</td>\n",
       "    </tr>\n",
       "    <tr>\n",
       "      <th>17</th>\n",
       "      <td>4.736842</td>\n",
       "      <td>-0.999701</td>\n",
       "      <td>0.024451</td>\n",
       "    </tr>\n",
       "    <tr>\n",
       "      <th>18</th>\n",
       "      <td>5.368421</td>\n",
       "      <td>-0.792419</td>\n",
       "      <td>0.609977</td>\n",
       "    </tr>\n",
       "    <tr>\n",
       "      <th>19</th>\n",
       "      <td>6.000000</td>\n",
       "      <td>-0.279415</td>\n",
       "      <td>0.960170</td>\n",
       "    </tr>\n",
       "  </tbody>\n",
       "</table>\n",
       "</div>"
      ],
      "text/plain": [
       "           t       sin       cos\n",
       "0  -6.000000  0.279415  0.960170\n",
       "1  -5.368421  0.792419  0.609977\n",
       "2  -4.736842  0.999701  0.024451\n",
       "3  -4.105263  0.821291 -0.570509\n",
       "4  -3.473684  0.326021 -0.945363\n",
       "5  -2.842105 -0.295030 -0.955488\n",
       "6  -2.210526 -0.802257 -0.596979\n",
       "7  -1.578947 -0.999967 -0.008151\n",
       "8  -0.947368 -0.811882  0.583822\n",
       "9  -0.315789 -0.310567  0.950551\n",
       "10  0.315789  0.310567  0.950551\n",
       "11  0.947368  0.811882  0.583822\n",
       "12  1.578947  0.999967 -0.008151\n",
       "13  2.210526  0.802257 -0.596979\n",
       "14  2.842105  0.295030 -0.955488\n",
       "15  3.473684 -0.326021 -0.945363\n",
       "16  4.105263 -0.821291 -0.570509\n",
       "17  4.736842 -0.999701  0.024451\n",
       "18  5.368421 -0.792419  0.609977\n",
       "19  6.000000 -0.279415  0.960170"
      ]
     },
     "execution_count": 5,
     "metadata": {},
     "output_type": "execute_result"
    }
   ],
   "source": [
    "pandas.DataFrame({'t': t, 'sin': sin_t, 'cos': cos_t})"
   ]
  },
  {
   "cell_type": "markdown",
   "id": "be81b8dc-d26d-4271-9e0c-6f70f1144d4f",
   "metadata": {},
   "source": [
    "manipulating data"
   ]
  },
  {
   "cell_type": "code",
   "execution_count": 6,
   "id": "aedc5131-cfbe-44c8-be17-fc914b761a38",
   "metadata": {},
   "outputs": [
    {
     "name": "stdout",
     "output_type": "stream",
     "text": [
      "0     Female\n",
      "1       Male\n",
      "2       Male\n",
      "3       Male\n",
      "4     Female\n",
      "5     Female\n",
      "6     Female\n",
      "7     Female\n",
      "8       Male\n",
      "9       Male\n",
      "10    Female\n",
      "11      Male\n",
      "12      Male\n",
      "13    Female\n",
      "14    Female\n",
      "15    Female\n",
      "16    Female\n",
      "17      Male\n",
      "18    Female\n",
      "19      Male\n",
      "20      Male\n",
      "21      Male\n",
      "22    Female\n",
      "23      Male\n",
      "24    Female\n",
      "25      Male\n",
      "26    Female\n",
      "27      Male\n",
      "28    Female\n",
      "29    Female\n",
      "30    Female\n",
      "31      Male\n",
      "32      Male\n",
      "33      Male\n",
      "34    Female\n",
      "35    Female\n",
      "36      Male\n",
      "37    Female\n",
      "38      Male\n",
      "39      Male\n",
      "Name: Gender, dtype: object\n"
     ]
    },
    {
     "data": {
      "text/plain": [
       "np.float64(109.45)"
      ]
     },
     "execution_count": 6,
     "metadata": {},
     "output_type": "execute_result"
    }
   ],
   "source": [
    "data.shape    # 40 rows and 8 columns\n",
    "\n",
    "\n",
    "data.columns  # giving it columns   \n",
    "\n",
    "\n",
    "print(data['Gender'])  # printing the named column   \n",
    "\n",
    "\n",
    "\n",
    "\n",
    "\n",
    "\n",
    "\n",
    "# Simpler selector\n",
    "data[data['Gender'] == 'Female']['VIQ'].mean()"
   ]
  },
  {
   "cell_type": "code",
   "execution_count": 7,
   "id": "ca0c788b-913e-483e-a35a-f0c851d04a5a",
   "metadata": {},
   "outputs": [
    {
     "name": "stdout",
     "output_type": "stream",
     "text": [
      "('Female', np.float64(109.45))\n",
      "('Male', np.float64(115.25))\n"
     ]
    }
   ],
   "source": [
    "groupby_gender = data.groupby('Gender')\n",
    "for gender, value in groupby_gender['VIQ']:\n",
    "    print((gender, value.mean()))"
   ]
  },
  {
   "cell_type": "code",
   "execution_count": 8,
   "id": "27356bf7-9e58-4cf4-b111-9225b675bfa3",
   "metadata": {},
   "outputs": [
    {
     "data": {
      "text/html": [
       "<div>\n",
       "<style scoped>\n",
       "    .dataframe tbody tr th:only-of-type {\n",
       "        vertical-align: middle;\n",
       "    }\n",
       "\n",
       "    .dataframe tbody tr th {\n",
       "        vertical-align: top;\n",
       "    }\n",
       "\n",
       "    .dataframe thead th {\n",
       "        text-align: right;\n",
       "    }\n",
       "</style>\n",
       "<table border=\"1\" class=\"dataframe\">\n",
       "  <thead>\n",
       "    <tr style=\"text-align: right;\">\n",
       "      <th></th>\n",
       "      <th>Unnamed: 0</th>\n",
       "      <th>FSIQ</th>\n",
       "      <th>VIQ</th>\n",
       "      <th>PIQ</th>\n",
       "      <th>Weight</th>\n",
       "      <th>Height</th>\n",
       "      <th>MRI_Count</th>\n",
       "    </tr>\n",
       "    <tr>\n",
       "      <th>Gender</th>\n",
       "      <th></th>\n",
       "      <th></th>\n",
       "      <th></th>\n",
       "      <th></th>\n",
       "      <th></th>\n",
       "      <th></th>\n",
       "      <th></th>\n",
       "    </tr>\n",
       "  </thead>\n",
       "  <tbody>\n",
       "    <tr>\n",
       "      <th>Female</th>\n",
       "      <td>19.65</td>\n",
       "      <td>111.9</td>\n",
       "      <td>109.45</td>\n",
       "      <td>110.45</td>\n",
       "      <td>137.200000</td>\n",
       "      <td>65.765000</td>\n",
       "      <td>862654.6</td>\n",
       "    </tr>\n",
       "    <tr>\n",
       "      <th>Male</th>\n",
       "      <td>21.35</td>\n",
       "      <td>115.0</td>\n",
       "      <td>115.25</td>\n",
       "      <td>111.60</td>\n",
       "      <td>166.444444</td>\n",
       "      <td>71.431579</td>\n",
       "      <td>954855.4</td>\n",
       "    </tr>\n",
       "  </tbody>\n",
       "</table>\n",
       "</div>"
      ],
      "text/plain": [
       "        Unnamed: 0   FSIQ     VIQ     PIQ      Weight     Height  MRI_Count\n",
       "Gender                                                                     \n",
       "Female       19.65  111.9  109.45  110.45  137.200000  65.765000   862654.6\n",
       "Male         21.35  115.0  115.25  111.60  166.444444  71.431579   954855.4"
      ]
     },
     "execution_count": 8,
     "metadata": {},
     "output_type": "execute_result"
    }
   ],
   "source": [
    "groupby_gender.mean()"
   ]
  },
  {
   "cell_type": "markdown",
   "id": "6004f8c1-01d5-46d3-953a-79627874991b",
   "metadata": {},
   "source": [
    "now we have grouped the dataset by gender and made a new chart"
   ]
  },
  {
   "cell_type": "code",
   "execution_count": 10,
   "id": "d90cc93f-aca9-421b-a2dd-0014672d4137",
   "metadata": {},
   "outputs": [
    {
     "name": "stdout",
     "output_type": "stream",
     "text": [
      "115.25\n"
     ]
    }
   ],
   "source": [
    "print (value.mean())"
   ]
  },
  {
   "cell_type": "code",
   "execution_count": 12,
   "id": "79b99aaa-8b4d-49ea-8b50-a9805845b522",
   "metadata": {},
   "outputs": [],
   "source": [
    "import numpy as np"
   ]
  },
  {
   "cell_type": "code",
   "execution_count": 16,
   "id": "2cbe6287-da71-461c-b3f9-2f9d59f1d54f",
   "metadata": {},
   "outputs": [
    {
     "ename": "ModuleNotFoundError",
     "evalue": "No module named 'pandas.tools'",
     "output_type": "error",
     "traceback": [
      "\u001b[0;31m---------------------------------------------------------------------------\u001b[0m",
      "\u001b[0;31mModuleNotFoundError\u001b[0m                       Traceback (most recent call last)",
      "Cell \u001b[0;32mIn[16], line 1\u001b[0m\n\u001b[0;32m----> 1\u001b[0m \u001b[38;5;28;01mfrom\u001b[39;00m\u001b[38;5;250m \u001b[39m\u001b[38;5;21;01mpandas\u001b[39;00m\u001b[38;5;21;01m.\u001b[39;00m\u001b[38;5;21;01mtools\u001b[39;00m\u001b[38;5;250m \u001b[39m\u001b[38;5;28;01mimport\u001b[39;00m plotting\n\u001b[1;32m      3\u001b[0m plotting\u001b[38;5;241m.\u001b[39mscatter_matrix(data[[\u001b[38;5;124m'\u001b[39m\u001b[38;5;124mWeight\u001b[39m\u001b[38;5;124m'\u001b[39m, \u001b[38;5;124m'\u001b[39m\u001b[38;5;124mHeight\u001b[39m\u001b[38;5;124m'\u001b[39m, \u001b[38;5;124m'\u001b[39m\u001b[38;5;124mMRI_Count\u001b[39m\u001b[38;5;124m'\u001b[39m]]) \n",
      "\u001b[0;31mModuleNotFoundError\u001b[0m: No module named 'pandas.tools'"
     ]
    }
   ],
   "source": [
    "from pandas.tools import plotting\n",
    "\n",
    "plotting.scatter_matrix(data[['Weight', 'Height', 'MRI_Count']]) "
   ]
  },
  {
   "cell_type": "markdown",
   "id": "854c3af5-f571-4ca9-8077-bb40fe445d95",
   "metadata": {},
   "source": [
    "okay so apparently this is an outdated pandas tool. i'll be using scatter matrix instead"
   ]
  },
  {
   "cell_type": "code",
   "execution_count": 18,
   "id": "a8f9c645-01c2-4733-9833-d3aa29ca2e0e",
   "metadata": {},
   "outputs": [],
   "source": [
    "from pandas.plotting import scatter_matrix"
   ]
  },
  {
   "cell_type": "markdown",
   "id": "480b2678-41c2-472e-8a3b-fa03633f624a",
   "metadata": {},
   "source": [
    "day two trying to work on this assignment!"
   ]
  },
  {
   "cell_type": "code",
   "execution_count": 1,
   "id": "9f72a0f6-0cc5-4fec-89ad-8bbdede26b72",
   "metadata": {},
   "outputs": [],
   "source": [
    "import pandas as pd"
   ]
  },
  {
   "cell_type": "code",
   "execution_count": 2,
   "id": "d917d13e-9c19-4ab8-a374-389e1f9c8a8c",
   "metadata": {},
   "outputs": [],
   "source": [
    "data = pd.read_csv('brain_size.csv')"
   ]
  },
  {
   "cell_type": "code",
   "execution_count": 3,
   "id": "81464b80-239c-4ca1-a70c-8ed8158617e4",
   "metadata": {},
   "outputs": [
    {
     "data": {
      "text/html": [
       "<div>\n",
       "<style scoped>\n",
       "    .dataframe tbody tr th:only-of-type {\n",
       "        vertical-align: middle;\n",
       "    }\n",
       "\n",
       "    .dataframe tbody tr th {\n",
       "        vertical-align: top;\n",
       "    }\n",
       "\n",
       "    .dataframe thead th {\n",
       "        text-align: right;\n",
       "    }\n",
       "</style>\n",
       "<table border=\"1\" class=\"dataframe\">\n",
       "  <thead>\n",
       "    <tr style=\"text-align: right;\">\n",
       "      <th></th>\n",
       "      <th>;\"Gender\";\"FSIQ\";\"VIQ\";\"PIQ\";\"Weight\";\"Height\";\"MRI_Count\"</th>\n",
       "    </tr>\n",
       "  </thead>\n",
       "  <tbody>\n",
       "    <tr>\n",
       "      <th>0</th>\n",
       "      <td>1;\"Female\";133;132;124;\"118\";\"64.5\";816932</td>\n",
       "    </tr>\n",
       "    <tr>\n",
       "      <th>1</th>\n",
       "      <td>2;\"Male\";140;150;124;\".\";\"72.5\";1001121</td>\n",
       "    </tr>\n",
       "    <tr>\n",
       "      <th>2</th>\n",
       "      <td>3;\"Male\";139;123;150;\"143\";\"73.3\";1038437</td>\n",
       "    </tr>\n",
       "    <tr>\n",
       "      <th>3</th>\n",
       "      <td>4;\"Male\";133;129;128;\"172\";\"68.8\";965353</td>\n",
       "    </tr>\n",
       "    <tr>\n",
       "      <th>4</th>\n",
       "      <td>5;\"Female\";137;132;134;\"147\";\"65.0\";951545</td>\n",
       "    </tr>\n",
       "  </tbody>\n",
       "</table>\n",
       "</div>"
      ],
      "text/plain": [
       "  ;\"Gender\";\"FSIQ\";\"VIQ\";\"PIQ\";\"Weight\";\"Height\";\"MRI_Count\"\n",
       "0         1;\"Female\";133;132;124;\"118\";\"64.5\";816932        \n",
       "1            2;\"Male\";140;150;124;\".\";\"72.5\";1001121        \n",
       "2          3;\"Male\";139;123;150;\"143\";\"73.3\";1038437        \n",
       "3           4;\"Male\";133;129;128;\"172\";\"68.8\";965353        \n",
       "4         5;\"Female\";137;132;134;\"147\";\"65.0\";951545        "
      ]
     },
     "execution_count": 3,
     "metadata": {},
     "output_type": "execute_result"
    }
   ],
   "source": [
    "data.head()"
   ]
  },
  {
   "cell_type": "markdown",
   "id": "e5a2c767-a733-47d4-b17b-8110d7615702",
   "metadata": {},
   "source": [
    "okay so i made the csv into a dataframe and just checked that it was correct"
   ]
  },
  {
   "cell_type": "code",
   "execution_count": 8,
   "id": "d731075b-229c-47f3-b0ae-f49e95fc5f02",
   "metadata": {},
   "outputs": [],
   "source": [
    "import pandas as pd"
   ]
  },
  {
   "cell_type": "code",
   "execution_count": 9,
   "id": "c6a48f57-f0e7-4bd8-b0bc-be04b98652ad",
   "metadata": {},
   "outputs": [],
   "source": [
    "import matplotlib.pyplot as plt"
   ]
  },
  {
   "cell_type": "code",
   "execution_count": 10,
   "id": "98185534-4ff3-4aee-b7fb-486b116f7859",
   "metadata": {},
   "outputs": [],
   "source": [
    "from pandas.plotting import scatter_matrix"
   ]
  },
  {
   "cell_type": "code",
   "execution_count": 15,
   "id": "b2406650-6e59-4937-ac39-aaebb5861d2f",
   "metadata": {},
   "outputs": [],
   "source": [
    "data = pd.read_csv('brain_size.csv', sep=';')"
   ]
  },
  {
   "cell_type": "code",
   "execution_count": 24,
   "id": "b2e19420-f89a-4b81-bcf2-be5c432f0800",
   "metadata": {},
   "outputs": [
    {
     "data": {
      "image/png": "[encoded data removed]",
      "text/plain": [
       "<Figure size 800x800 with 1 Axes>"
      ]
     },
     "metadata": {},
     "output_type": "display_data"
    }
   ],
   "source": [
    "scatter_matrix(data[[\"Weight\",\"Height\",\"MRI_Count\"]], diagonal='hist', figsize=(8,8))\n",
    "plt.show()"
   ]
  },
  {
   "cell_type": "code",
   "execution_count": 13,
   "id": "e93ab995-6999-4e74-878a-7d5da2a6ac1d",
   "metadata": {},
   "outputs": [
    {
     "data": {
      "text/plain": [
       "Index([';\"Gender\";\"FSIQ\";\"VIQ\";\"PIQ\";\"Weight\";\"Height\";\"MRI_Count\"'], dtype='object')"
      ]
     },
     "execution_count": 13,
     "metadata": {},
     "output_type": "execute_result"
    }
   ],
   "source": [
    "data.columns"
   ]
  },
  {
   "cell_type": "markdown",
   "id": "4ed96a5b-e72d-4574-b6ef-c3bb0d301b63",
   "metadata": {},
   "source": [
    "i wanted to check the names of the columns which i did above. i'm still not getting the full plot"
   ]
  },
  {
   "cell_type": "code",
   "execution_count": 20,
   "id": "450b8cec-1ba9-4cbe-b2b8-8dfd1149267c",
   "metadata": {},
   "outputs": [
    {
     "data": {
      "image/png": "[encoded data removed]",
      "text/plain": [
       "<Figure size 640x480 with 9 Axes>"
      ]
     },
     "metadata": {},
     "output_type": "display_data"
    }
   ],
   "source": [
    "scatter_matrix(data[['FSIQ', 'VIQ', 'PIQ']])\n",
    "plt.show()"
   ]
  },
  {
   "cell_type": "markdown",
   "id": "a6f0a5d5-0f2b-4fc0-97a8-ee5eb33d7cb1",
   "metadata": {},
   "source": [
    "okay it worked for this one why did it not work for the other one?"
   ]
  },
  {
   "cell_type": "code",
   "execution_count": 25,
   "id": "57f49d00-5b71-4f67-b3e7-0a0d254ac126",
   "metadata": {},
   "outputs": [
    {
     "name": "stdout",
     "output_type": "stream",
     "text": [
      "['Unnamed: 0', 'Gender', 'FSIQ', 'VIQ', 'PIQ', 'Weight', 'Height', 'MRI_Count']\n"
     ]
    }
   ],
   "source": [
    "print(data.columns.tolist())"
   ]
  },
  {
   "cell_type": "markdown",
   "id": "d1f23977-693e-41a3-8dbb-91396993898e",
   "metadata": {},
   "source": [
    "moving on for now because i can't get it to work"
   ]
  },
  {
   "cell_type": "code",
   "execution_count": 4,
   "id": "c7da05ca-fe97-4dd2-80a5-f3a13ab013db",
   "metadata": {},
   "outputs": [],
   "source": [
    "import pandas as pd"
   ]
  },
  {
   "cell_type": "code",
   "execution_count": 5,
   "id": "10b05403-0a12-427a-bd6b-833ec13a3ae1",
   "metadata": {},
   "outputs": [],
   "source": [
    "data = pd.read_csv('brain_size.csv', sep=';')"
   ]
  },
  {
   "cell_type": "code",
   "execution_count": 6,
   "id": "d6775d7c-8b70-4f2d-85c8-815d508def8b",
   "metadata": {},
   "outputs": [],
   "source": [
    "from scipy import stats"
   ]
  },
  {
   "cell_type": "code",
   "execution_count": 7,
   "id": "60475847-4221-4bc7-8875-a3502ac0189b",
   "metadata": {},
   "outputs": [
    {
     "data": {
      "text/plain": [
       "TtestResult(statistic=np.float64(30.08809997084933), pvalue=np.float64(1.3289196468727879e-28), df=np.int64(39))"
      ]
     },
     "execution_count": 7,
     "metadata": {},
     "output_type": "execute_result"
    }
   ],
   "source": [
    "stats.ttest_1samp(data['VIQ'], 0)"
   ]
  },
  {
   "cell_type": "markdown",
   "id": "13cec9e8-a0e1-40b6-bdac-efc37158e3a1",
   "metadata": {},
   "source": [
    "the p value is 10^-28"
   ]
  },
  {
   "cell_type": "code",
   "execution_count": 8,
   "id": "b7d5430f-4fe3-4e0c-b6ad-bd5bc3dc420f",
   "metadata": {},
   "outputs": [
    {
     "data": {
      "text/plain": [
       "TtestResult(statistic=np.float64(-0.7726161723275012), pvalue=np.float64(0.44452876778583217), df=np.float64(38.0))"
      ]
     },
     "execution_count": 8,
     "metadata": {},
     "output_type": "execute_result"
    }
   ],
   "source": [
    "female_viq = data[data['Gender'] == 'Female']['VIQ']\n",
    "male_viq = data[data['Gender'] == 'Male']['VIQ']\n",
    "stats.ttest_ind(female_viq, male_viq)  "
   ]
  },
  {
   "cell_type": "markdown",
   "id": "09613fa3-7a6e-4dfc-9b99-883f2e4ee56b",
   "metadata": {},
   "source": [
    "the p-value here is 0.44"
   ]
  },
  {
   "cell_type": "code",
   "execution_count": 9,
   "id": "ba6b348b-575e-41c5-914f-0acac64c1cf2",
   "metadata": {},
   "outputs": [
    {
     "data": {
      "text/plain": [
       "TtestResult(statistic=np.float64(0.465637596380964), pvalue=np.float64(0.6427725009414841), df=np.float64(78.0))"
      ]
     },
     "execution_count": 9,
     "metadata": {},
     "output_type": "execute_result"
    }
   ],
   "source": [
    "stats.ttest_ind(data['FSIQ'], data['PIQ'])"
   ]
  },
  {
   "cell_type": "markdown",
   "id": "dbba0881-b686-4af5-adc5-503ac37e8cdb",
   "metadata": {},
   "source": [
    "this p-value is 0.64, but it ignores links between observations"
   ]
  },
  {
   "cell_type": "code",
   "execution_count": 10,
   "id": "8da736b9-d1e0-48e3-916b-67807eceeaa5",
   "metadata": {},
   "outputs": [
    {
     "data": {
      "text/plain": [
       "TtestResult(statistic=np.float64(1.7842019405859857), pvalue=np.float64(0.08217263818364236), df=np.int64(39))"
      ]
     },
     "execution_count": 10,
     "metadata": {},
     "output_type": "execute_result"
    }
   ],
   "source": [
    "stats.ttest_rel(data['FSIQ'], data['PIQ'])"
   ]
  },
  {
   "cell_type": "markdown",
   "id": "0c6071d1-5b6c-4c03-874d-a27793c918bf",
   "metadata": {},
   "source": [
    "after correction and using a repeated measures test, the p-value is 0.08"
   ]
  },
  {
   "cell_type": "code",
   "execution_count": 11,
   "id": "678435ec-0d1e-454e-a4fa-cc7d061d838f",
   "metadata": {},
   "outputs": [
    {
     "data": {
      "text/plain": [
       "TtestResult(statistic=np.float64(1.7842019405859857), pvalue=np.float64(0.08217263818364236), df=np.int64(39))"
      ]
     },
     "execution_count": 11,
     "metadata": {},
     "output_type": "execute_result"
    }
   ],
   "source": [
    "stats.ttest_1samp(data['FSIQ'] - data['PIQ'], 0)"
   ]
  },
  {
   "cell_type": "markdown",
   "id": "164f969a-7e56-48ff-8790-b61487335dae",
   "metadata": {},
   "source": [
    "and we can see that the p-value of a 1 sample test on the difference gives the same result (0.08)"
   ]
  },
  {
   "cell_type": "code",
   "execution_count": 12,
   "id": "fef06284-3b20-49cf-965e-4c7830f8896b",
   "metadata": {},
   "outputs": [
    {
     "data": {
      "text/plain": [
       "WilcoxonResult(statistic=np.float64(274.5), pvalue=np.float64(0.10659492713506856))"
      ]
     },
     "execution_count": 12,
     "metadata": {},
     "output_type": "execute_result"
    }
   ],
   "source": [
    "stats.wilcoxon(data['FSIQ'], data['PIQ'])"
   ]
  },
  {
   "cell_type": "markdown",
   "id": "f5da58fa-fa9b-4114-a6a9-eefb1306a0e3",
   "metadata": {},
   "source": [
    "the p-value here is 0.107"
   ]
  },
  {
   "cell_type": "markdown",
   "id": "456e4b48-994a-41d0-aec9-7a8bbf0c372e",
   "metadata": {},
   "source": [
    "now i'm moving on to the exercise"
   ]
  },
  {
   "cell_type": "code",
   "execution_count": 23,
   "id": "38d97f92-e355-4341-a74c-058386cf9a3e",
   "metadata": {},
   "outputs": [],
   "source": [
    "data= pd.read_csv('brain_size.csv', sep=';')"
   ]
  },
  {
   "cell_type": "code",
   "execution_count": 24,
   "id": "f91f205a-9d9e-4f77-b71a-58d1da65af61",
   "metadata": {},
   "outputs": [
    {
     "name": "stdout",
     "output_type": "stream",
     "text": [
      "Unnamed: 0     int64\n",
      "Gender        object\n",
      "FSIQ           int64\n",
      "VIQ            int64\n",
      "PIQ            int64\n",
      "Weight        object\n",
      "Height        object\n",
      "MRI_Count      int64\n",
      "dtype: object\n"
     ]
    }
   ],
   "source": [
    "print(data.dtypes)"
   ]
  },
  {
   "cell_type": "code",
   "execution_count": 25,
   "id": "387aaa42-5d30-4b07-b3f4-6ad2c2b5d193",
   "metadata": {},
   "outputs": [],
   "source": [
    "data['Weight']=pd.to_numeric(data['Weight'], errors='coerce')\n",
    "data['Height']=pd.to_numeric(data['Height'], errors='coerce')"
   ]
  },
  {
   "cell_type": "code",
   "execution_count": 26,
   "id": "241efd42-40ef-4fb9-9ba3-22ff34e92f8b",
   "metadata": {},
   "outputs": [
    {
     "name": "stdout",
     "output_type": "stream",
     "text": [
      "['Female' 'Male']\n"
     ]
    }
   ],
   "source": [
    "print(data['Gender'].unique())"
   ]
  },
  {
   "cell_type": "code",
   "execution_count": 31,
   "id": "341f6d41-db83-4682-8441-6acacd41537f",
   "metadata": {},
   "outputs": [],
   "source": [
    "male_weights = data[data['Gender'] == 'Male']['Weight'].dropna()\n",
    "female_weights = data[data['Gender'] == 'Female']['Weight'].dropna()\n",
    "#this is splitting the data by gender"
   ]
  },
  {
   "cell_type": "code",
   "execution_count": 32,
   "id": "9fff2390-9b45-440e-8913-c3d5b12f3632",
   "metadata": {},
   "outputs": [
    {
     "name": "stdout",
     "output_type": "stream",
     "text": [
      "T_test result 4.870950921940696 2.227293018362118e-05\n"
     ]
    }
   ],
   "source": [
    "t_stat, p_val = stats.ttest_ind(male_weights, female_weights, nan_policy='omit')\n",
    "print(\"T_test result\", t_stat, p_val)"
   ]
  },
  {
   "cell_type": "markdown",
   "id": "c3501f92-9656-4551-9b27-84bb2e0c3e29",
   "metadata": {},
   "source": [
    "p- value is 2^-5"
   ]
  },
  {
   "cell_type": "code",
   "execution_count": null,
   "id": "cdb384b1-2ff6-4c5e-8ae0-0cfb7a7f0c3b",
   "metadata": {},
   "outputs": [],
   "source": []
  }
 ],
 "metadata": {
  "kernelspec": {
   "display_name": "Python (stats-env)",
   "language": "python",
   "name": "stats-env"
  },
  "language_info": {
   "codemirror_mode": {
    "name": "ipython",
    "version": 3
   },
   "file_extension": ".py",
   "mimetype": "text/x-python",
   "name": "python",
   "nbconvert_exporter": "python",
   "pygments_lexer": "ipython3",
   "version": "3.10.18"
  }
 },
 "nbformat": 4,
 "nbformat_minor": 5
}
